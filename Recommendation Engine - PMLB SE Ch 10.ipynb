{
 "cells": [
  {
   "cell_type": "code",
   "execution_count": 1,
   "metadata": {},
   "outputs": [],
   "source": [
    "import pandas as pd\n",
    "import numpy as np\n",
    "import requests\n",
    "import json\n",
    "from sklearn.metrics.pairwise import cosine_similarity"
   ]
  },
  {
   "cell_type": "code",
   "execution_count": 2,
   "metadata": {},
   "outputs": [
    {
     "data": {
      "text/plain": [
       "array([[0.18353259]])"
      ]
     },
     "execution_count": 2,
     "metadata": {},
     "output_type": "execute_result"
    }
   ],
   "source": [
    "cosine_similarity(np.array([4,0,5,3,5,0,0]).reshape(1,-1),\\\n",
    "                  np.array([0,4,0,4,0,5,0]).reshape(1,-1))"
   ]
  },
  {
   "cell_type": "code",
   "execution_count": 3,
   "metadata": {},
   "outputs": [
    {
     "data": {
      "text/plain": [
       "array([[0.88527041]])"
      ]
     },
     "execution_count": 3,
     "metadata": {},
     "output_type": "execute_result"
    }
   ],
   "source": [
    "cosine_similarity(np.array([4,0,5,3,5,0,0]).reshape(1,-1),\\\n",
    "                  np.array([2,0,2,0,1,0,0]).reshape(1,-1))"
   ]
  },
  {
   "cell_type": "code",
   "execution_count": 4,
   "metadata": {},
   "outputs": [
    {
     "data": {
      "text/plain": [
       "array([[0.30772873]])"
      ]
     },
     "execution_count": 4,
     "metadata": {},
     "output_type": "execute_result"
    }
   ],
   "source": [
    "cosine_similarity(np.array([-.25,0,.75,-1.25,.75,0,0])\\\n",
    "                  .reshape(1,-1),\\\n",
    "                  np.array([0,-.33,0,-.33,0,.66,0])\\\n",
    "                  .reshape(1,-1))"
   ]
  },
  {
   "cell_type": "code",
   "execution_count": 5,
   "metadata": {},
   "outputs": [
    {
     "data": {
      "text/plain": [
       "array([[-0.24618298]])"
      ]
     },
     "execution_count": 5,
     "metadata": {},
     "output_type": "execute_result"
    }
   ],
   "source": [
    "cosine_similarity(np.array([-.25,0,.75,-1.25,.75,0,0])\\\n",
    "                  .reshape(1,-1),\\\n",
    "                  np.array([.33,0,.33,0,-.66,0,0])\\\n",
    "                  .reshape(1,-1))"
   ]
  },
  {
   "cell_type": "code",
   "execution_count": null,
   "metadata": {},
   "outputs": [],
   "source": [
    "user_x = [0,.33,0,-.66,0,33,0]\n",
    "user_y = [0,0,0,-1,0,.5,.5]\n",
    "\n",
    "cosine_similarity(np.array(user_x).reshape(1,-1),\\\n",
    "                  np.array(user_y).reshape(1,-1))"
   ]
  },
  {
   "cell_type": "code",
   "execution_count": null,
   "metadata": {},
   "outputs": [],
   "source": [
    "user_x = [0,.33,0,-.66,0,33,0]\n",
    "user_z = [0,-.125,0,-.625,0,.375,.375]\n",
    "\n",
    "cosine_similarity(np.array(user_x).reshape(1,-1),\\\n",
    "                  np.array(user_z).reshape(1,-1))"
   ]
  },
  {
   "cell_type": "code",
   "execution_count": null,
   "metadata": {},
   "outputs": [],
   "source": [
    "s1 = [-1.0,0.0,0.0,0.0,1.0]\n",
    "s2 = [-1.66,0.0,.33,0.0,1.33]\n",
    "\n",
    "cosine_similarity(np.array(s1).reshape(1,-1),\\\n",
    "                  np.array(s2).reshape(1,-1))"
   ]
  },
  {
   "cell_type": "markdown",
   "metadata": {},
   "source": [
    "## Build a Recommendation Engine"
   ]
  },
  {
   "cell_type": "code",
   "execution_count": null,
   "metadata": {},
   "outputs": [],
   "source": [
    "myun = 'your_github_handle'\n",
    "mypw = 'your_personal_token'"
   ]
  },
  {
   "cell_type": "markdown",
   "metadata": {},
   "source": [
    "### Get the repos I have starred"
   ]
  },
  {
   "cell_type": "code",
   "execution_count": null,
   "metadata": {},
   "outputs": [],
   "source": [
    "my_starred_repos = []\n",
    "def get_starred_by_me():\n",
    "    resp_list = []\n",
    "    last_resp = ''\n",
    "    first_url_to_get = 'https://api.github.com/user/starred'\n",
    "    first_url_resp = requests.get(first_url_to_get, auth=(myun,mypw))\n",
    "    last_resp = first_url_resp\n",
    "    resp_list.append(json.loads(first_url_resp.text))\n",
    "    \n",
    "    while last_resp.links.get('next'):\n",
    "        next_url_to_get = last_resp.links['next']['url']\n",
    "        next_url_resp = requests.get(next_url_to_get, auth=(myun,mypw))\n",
    "        last_resp = next_url_resp\n",
    "        resp_list.append(json.loads(next_url_resp.text))\n",
    "        \n",
    "    for i in resp_list:\n",
    "        for j in i:\n",
    "            msr = j['html_url']\n",
    "            my_starred_repos.append(msr)"
   ]
  },
  {
   "cell_type": "code",
   "execution_count": null,
   "metadata": {},
   "outputs": [],
   "source": [
    "get_starred_by_me()"
   ]
  },
  {
   "cell_type": "code",
   "execution_count": null,
   "metadata": {
    "scrolled": true
   },
   "outputs": [],
   "source": [
    "my_starred_repos"
   ]
  },
  {
   "cell_type": "code",
   "execution_count": null,
   "metadata": {},
   "outputs": [],
   "source": [
    "len(my_starred_repos)"
   ]
  },
  {
   "cell_type": "code",
   "execution_count": null,
   "metadata": {},
   "outputs": [],
   "source": [
    "my_starred_users = []\n",
    "for ln in my_starred_repos:\n",
    "    right_split = ln.split('.com/')[1]\n",
    "    starred_usr = right_split.split('/')[0]\n",
    "    my_starred_users.append(starred_usr)"
   ]
  },
  {
   "cell_type": "code",
   "execution_count": null,
   "metadata": {
    "scrolled": true
   },
   "outputs": [],
   "source": [
    "my_starred_users"
   ]
  },
  {
   "cell_type": "code",
   "execution_count": null,
   "metadata": {},
   "outputs": [],
   "source": [
    "len(my_starred_users)"
   ]
  },
  {
   "cell_type": "markdown",
   "metadata": {},
   "source": [
    "### Looks like some duplication because I starred multiple repos for some users"
   ]
  },
  {
   "cell_type": "code",
   "execution_count": null,
   "metadata": {},
   "outputs": [],
   "source": [
    "len(set(my_starred_users))"
   ]
  },
  {
   "cell_type": "markdown",
   "metadata": {},
   "source": [
    "### Now let's get the repos they starred"
   ]
  },
  {
   "cell_type": "code",
   "execution_count": null,
   "metadata": {},
   "outputs": [],
   "source": [
    "starred_repos = {k:[] for k in set(my_starred_users)}\n",
    "def get_starred_by_user(user_name):\n",
    "    starred_resp_list = []\n",
    "    last_resp = ''\n",
    "    first_url_to_get = 'https://api.github.com/users/'+ user_name +'/starred'\n",
    "    first_url_resp = requests.get(first_url_to_get, auth=(myun,mypw))\n",
    "    last_resp = first_url_resp\n",
    "    starred_resp_list.append(json.loads(first_url_resp.text))\n",
    "    \n",
    "    while last_resp.links.get('next'):\n",
    "        next_url_to_get = last_resp.links['next']['url']\n",
    "        next_url_resp = requests.get(next_url_to_get, auth=(myun,mypw))\n",
    "        last_resp = next_url_resp\n",
    "        starred_resp_list.append(json.loads(next_url_resp.text))\n",
    "        \n",
    "    for i in starred_resp_list:\n",
    "        for j in i:\n",
    "            sr = j['html_url']\n",
    "            starred_repos.get(user_name).append(sr)"
   ]
  },
  {
   "cell_type": "code",
   "execution_count": null,
   "metadata": {
    "scrolled": true
   },
   "outputs": [],
   "source": [
    "for usr in list(set(my_starred_users)):\n",
    "    print(usr)\n",
    "    try:\n",
    "        get_starred_by_user(usr)\n",
    "    except:\n",
    "        print('failed for user', usr)"
   ]
  },
  {
   "cell_type": "code",
   "execution_count": null,
   "metadata": {
    "scrolled": true
   },
   "outputs": [],
   "source": [
    "len(starred_repos)"
   ]
  },
  {
   "cell_type": "markdown",
   "metadata": {},
   "source": [
    "### Now we'll build a vocabulary that includes all the repos starred by the users I starred"
   ]
  },
  {
   "cell_type": "code",
   "execution_count": null,
   "metadata": {},
   "outputs": [],
   "source": [
    "repo_vocab = [item for sl in list(starred_repos.values()) for item in sl]"
   ]
  },
  {
   "cell_type": "code",
   "execution_count": null,
   "metadata": {},
   "outputs": [],
   "source": [
    "repo_set = list(set(repo_vocab))"
   ]
  },
  {
   "cell_type": "code",
   "execution_count": null,
   "metadata": {},
   "outputs": [],
   "source": [
    "len(repo_set)"
   ]
  },
  {
   "cell_type": "code",
   "execution_count": null,
   "metadata": {},
   "outputs": [],
   "source": [
    "all_usr_vector = []\n",
    "for k,v in starred_repos.items():\n",
    "    usr_vector = []\n",
    "    for url in repo_set:\n",
    "        if url in v:\n",
    "            usr_vector.extend([1])\n",
    "        else:\n",
    "            usr_vector.extend([0])\n",
    "    all_usr_vector.append(usr_vector)"
   ]
  },
  {
   "cell_type": "code",
   "execution_count": null,
   "metadata": {},
   "outputs": [],
   "source": [
    "len(all_usr_vector)"
   ]
  },
  {
   "cell_type": "code",
   "execution_count": null,
   "metadata": {
    "scrolled": true
   },
   "outputs": [],
   "source": [
    "df = pd.DataFrame(all_usr_vector, columns=repo_set, index=starred_repos.keys())"
   ]
  },
  {
   "cell_type": "code",
   "execution_count": null,
   "metadata": {
    "scrolled": true
   },
   "outputs": [],
   "source": [
    "df"
   ]
  },
  {
   "cell_type": "code",
   "execution_count": null,
   "metadata": {
    "scrolled": true
   },
   "outputs": [],
   "source": [
    "len(df.columns)"
   ]
  },
  {
   "cell_type": "markdown",
   "metadata": {},
   "source": [
    "### Now I need to add myself to this dataframe to find the similarity between myself and the other users"
   ]
  },
  {
   "cell_type": "code",
   "execution_count": null,
   "metadata": {
    "scrolled": false
   },
   "outputs": [],
   "source": [
    "my_repo_comp = []\n",
    "for i in df.columns:\n",
    "    if i in my_starred_repos:\n",
    "        my_repo_comp.append(1)\n",
    "    else:\n",
    "        my_repo_comp.append(0)"
   ]
  },
  {
   "cell_type": "code",
   "execution_count": null,
   "metadata": {
    "scrolled": true
   },
   "outputs": [],
   "source": [
    "mrc = pd.Series(my_repo_comp).to_frame(myun).T"
   ]
  },
  {
   "cell_type": "code",
   "execution_count": null,
   "metadata": {},
   "outputs": [],
   "source": [
    "mrc"
   ]
  },
  {
   "cell_type": "code",
   "execution_count": null,
   "metadata": {},
   "outputs": [],
   "source": [
    "mrc.columns = df.columns"
   ]
  },
  {
   "cell_type": "code",
   "execution_count": null,
   "metadata": {},
   "outputs": [],
   "source": [
    "fdf = pd.concat([df, mrc])"
   ]
  },
  {
   "cell_type": "code",
   "execution_count": null,
   "metadata": {
    "scrolled": true
   },
   "outputs": [],
   "source": [
    "fdf"
   ]
  },
  {
   "cell_type": "code",
   "execution_count": null,
   "metadata": {
    "scrolled": true
   },
   "outputs": [],
   "source": [
    "l2 = my_starred_repos"
   ]
  },
  {
   "cell_type": "code",
   "execution_count": null,
   "metadata": {
    "scrolled": true
   },
   "outputs": [],
   "source": [
    "l1 = fdf.iloc[-1,:][fdf.iloc[-1,:]==1].index.values"
   ]
  },
  {
   "cell_type": "code",
   "execution_count": null,
   "metadata": {
    "scrolled": true
   },
   "outputs": [],
   "source": [
    "a = set(l1)\n",
    "b = set(l2)"
   ]
  },
  {
   "cell_type": "code",
   "execution_count": null,
   "metadata": {
    "scrolled": true
   },
   "outputs": [],
   "source": [
    "b.difference(a)"
   ]
  },
  {
   "cell_type": "code",
   "execution_count": null,
   "metadata": {},
   "outputs": [],
   "source": [
    "from sklearn.metrics import jaccard_similarity_score\n",
    "from scipy.stats import pearsonr"
   ]
  },
  {
   "cell_type": "code",
   "execution_count": null,
   "metadata": {},
   "outputs": [],
   "source": [
    "sim_score = {}\n",
    "for i in range(len(fdf)):\n",
    "    ss = pearsonr(fdf.iloc[-1,:], fdf.iloc[i,:])\n",
    "    sim_score.update({i: ss[0]})"
   ]
  },
  {
   "cell_type": "code",
   "execution_count": null,
   "metadata": {
    "scrolled": true
   },
   "outputs": [],
   "source": [
    "sf = pd.Series(sim_score).to_frame('similarity')"
   ]
  },
  {
   "cell_type": "code",
   "execution_count": null,
   "metadata": {
    "scrolled": true
   },
   "outputs": [],
   "source": [
    "sf"
   ]
  },
  {
   "cell_type": "code",
   "execution_count": null,
   "metadata": {
    "scrolled": true
   },
   "outputs": [],
   "source": [
    "sf.sort_values('similarity', ascending=False)"
   ]
  },
  {
   "cell_type": "code",
   "execution_count": null,
   "metadata": {},
   "outputs": [],
   "source": [
    "fdf.index[6]"
   ]
  },
  {
   "cell_type": "code",
   "execution_count": null,
   "metadata": {
    "scrolled": true
   },
   "outputs": [],
   "source": [
    "fdf.iloc[6,:][fdf.iloc[6,:]==1]"
   ]
  },
  {
   "cell_type": "code",
   "execution_count": null,
   "metadata": {},
   "outputs": [],
   "source": [
    "len(fdf.iloc[6,:][fdf.iloc[6,:]==1])"
   ]
  },
  {
   "cell_type": "code",
   "execution_count": null,
   "metadata": {},
   "outputs": [],
   "source": [
    "fdf.index[42]"
   ]
  },
  {
   "cell_type": "code",
   "execution_count": null,
   "metadata": {
    "scrolled": true
   },
   "outputs": [],
   "source": [
    "fdf.iloc[42,:][fdf.iloc[42,:]==1]"
   ]
  },
  {
   "cell_type": "code",
   "execution_count": null,
   "metadata": {},
   "outputs": [],
   "source": [
    "fdf.index[116]"
   ]
  },
  {
   "cell_type": "code",
   "execution_count": null,
   "metadata": {
    "scrolled": true
   },
   "outputs": [],
   "source": [
    "all_recs = fdf.iloc[[6,42,116,159],:]\n",
    "all_recs.T"
   ]
  },
  {
   "cell_type": "code",
   "execution_count": null,
   "metadata": {},
   "outputs": [],
   "source": [
    "all_recs = fdf.iloc[[6,42,116,159],:][fdf.iloc[[6,42,116,159],:]==1].fillna(0).T"
   ]
  },
  {
   "cell_type": "code",
   "execution_count": null,
   "metadata": {
    "scrolled": true
   },
   "outputs": [],
   "source": [
    "all_recs[(all_recs==1).all(axis=1)]"
   ]
  },
  {
   "cell_type": "code",
   "execution_count": null,
   "metadata": {
    "scrolled": true
   },
   "outputs": [],
   "source": [
    "str_recs_tmp = all_recs[all_recs[myun]==0].copy()\n",
    "str_recs = str_recs_tmp.iloc[:,:-1].copy()\n",
    "str_recs"
   ]
  },
  {
   "cell_type": "code",
   "execution_count": null,
   "metadata": {
    "scrolled": true
   },
   "outputs": [],
   "source": [
    "str_recs[(str_recs==1).all(axis=1)]"
   ]
  },
  {
   "cell_type": "code",
   "execution_count": null,
   "metadata": {},
   "outputs": [],
   "source": [
    "str_recs.sum(axis=1).to_frame('total').sort_values(by='total', ascending=False)"
   ]
  },
  {
   "cell_type": "code",
   "execution_count": null,
   "metadata": {},
   "outputs": [],
   "source": []
  }
 ],
 "metadata": {
  "kernelspec": {
   "display_name": "Python 3",
   "language": "python",
   "name": "python3"
  },
  "language_info": {
   "codemirror_mode": {
    "name": "ipython",
    "version": 3
   },
   "file_extension": ".py",
   "mimetype": "text/x-python",
   "name": "python",
   "nbconvert_exporter": "python",
   "pygments_lexer": "ipython3",
   "version": "3.8.5"
  }
 },
 "nbformat": 4,
 "nbformat_minor": 1
}
